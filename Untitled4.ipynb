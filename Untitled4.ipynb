{
 "cells": [
  {
   "cell_type": "code",
   "execution_count": null,
   "id": "8a35c608",
   "metadata": {},
   "outputs": [],
   "source": [
    "import pandas as pd \n",
    "import matplotlib.pyplot as plt \n",
    "plt.rcParams['figure.figsize'] = [11, 7]\n",
    "office_df= pd.read_csv(\"datasets/office_episodes.csv\")\n",
    "office_df.head()\n",
    "cols=[]\n",
    "for ind,row in office_df.iterrows():\n",
    "    if (row[\"scaled_ratings\"] <  0.25  ):\n",
    "        cols.append(\"red\")\n",
    "    elif   (row[\"scaled_ratings\"] <  0.50  ):\n",
    "        cols.append(\"orange\") \n",
    "        \n",
    "    elif   (row[\"scaled_ratings\"] <  0.75  ):\n",
    "        cols.append(\"lightgreen\")  \n",
    "        \n",
    "    else :\n",
    "    \n",
    "        cols.append(\"darkgreen\") \n",
    "        \n",
    "        \n",
    "sizes=[]\n",
    "for ind,row in office_df.iterrows():\n",
    "    if (row[\"has_guests\"] ==False  ):\n",
    "        sizes.append(25)\n",
    "    else:\n",
    "        sizes.append(250)\n",
    "\n",
    "fig=plt.figure()\n",
    "plt.scatter(x=office_df[\"episode_number\"],y=office_df[\"viewership_mil\"],c=cols,s=sizes)\n",
    "\n",
    "plt.title(\"Popularity, Quality, and Guest Appearances on the Office\")\n",
    "plt.xlabel(\"Episode Number\")\n",
    "plt.ylabel(\"Viewership (Millions)\")\n",
    "plt.show()\n",
    "cols=[]\n",
    "office_df[office_df['viewership_mil']==office_df['viewership_mil'].max]['guest_stars']\n",
    "top_star=\"Jack Black\""
   ]
  },
  {
   "cell_type": "code",
   "execution_count": null,
   "id": "3c77b4af",
   "metadata": {},
   "outputs": [],
   "source": []
  }
 ],
 "metadata": {
  "kernelspec": {
   "display_name": "Python 3",
   "language": "python",
   "name": "python3"
  },
  "language_info": {
   "codemirror_mode": {
    "name": "ipython",
    "version": 3
   },
   "file_extension": ".py",
   "mimetype": "text/x-python",
   "name": "python",
   "nbconvert_exporter": "python",
   "pygments_lexer": "ipython3",
   "version": "3.8.8"
  }
 },
 "nbformat": 4,
 "nbformat_minor": 5
}
